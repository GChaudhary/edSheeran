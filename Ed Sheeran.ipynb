{
 "cells": [
  {
   "cell_type": "code",
   "execution_count": 5,
   "metadata": {
    "collapsed": true
   },
   "outputs": [],
   "source": [
    "import pandas as pd\n",
    "import numpy as np\n",
    "import gensim.models.word2vec as w2v\n",
    "import multiprocessing\n",
    "import os\n",
    "import re\n",
    "import pprint\n",
    "import sklearn.manifold\n",
    "import matplotlib.pyplot as plt"
   ]
  },
  {
   "cell_type": "code",
   "execution_count": 12,
   "metadata": {
    "collapsed": false
   },
   "outputs": [],
   "source": [
    "songs = pd.read_json(\"edSheeranLyrics.json\", encoding='utf-8')\n"
   ]
  },
  {
   "cell_type": "code",
   "execution_count": 23,
   "metadata": {
    "collapsed": false
   },
   "outputs": [
    {
     "name": "stdout",
     "output_type": "stream",
     "text": [
      "Number of unique words in Ed Sheeran's Songs: 2328\n"
     ]
    }
   ],
   "source": [
    "text_corpus = []\n",
    "for song in songs['lyrics']:\n",
    "    words = song.lower().split()\n",
    "    text_corpus.append(words)\n",
    "\n",
    "\n",
    "num_features = 50\n",
    "\n",
    "min_word_count = 1\n",
    "\n",
    "num_workers = multiprocessing.cpu_count()\n",
    "\n",
    "# Context window length.\n",
    "context_size = 7\n",
    "\n",
    "# Downsample setting for frequent words.\n",
    "#0 - 1e-5 is good for this\n",
    "downsampling = 1e-1\n",
    "\n",
    "# Seed for the RNG, to make the results reproducible.\n",
    "#random number generator\n",
    "#deterministic, good for debugging\n",
    "seed = 2\n",
    "\n",
    "songs2vec = w2v.Word2Vec(\n",
    "    sg=1,\n",
    "    seed=seed,\n",
    "    workers=num_workers,\n",
    "    size=num_features,\n",
    "    min_count=min_word_count,\n",
    "    window=context_size,\n",
    "    sample=downsampling\n",
    ")\n",
    "\n",
    "songs2vec.build_vocab(text_corpus)\n",
    "print (\"Number of unique words in Ed Sheeran's Songs: \" + str(len(songs2vec.vocab)))"
   ]
  },
  {
   "cell_type": "code",
   "execution_count": 24,
   "metadata": {
    "collapsed": true
   },
   "outputs": [],
   "source": [
    "songs2vec.train(text_corpus)\n",
    "if not os.path.exists(\"trained\"):\n",
    "    os.makedirs(\"trained\")\n",
    "songs2vec.save(os.path.join(\"trained\", \"songs2vec.w2v\"))"
   ]
  },
  {
   "cell_type": "code",
   "execution_count": 25,
   "metadata": {
    "collapsed": true
   },
   "outputs": [],
   "source": [
    "songs2vec = w2v.Word2Vec.load(os.path.join(\"trained\", \"songs2vec.w2v\"))"
   ]
  },
  {
   "cell_type": "code",
   "execution_count": 29,
   "metadata": {
    "collapsed": false
   },
   "outputs": [],
   "source": [
    "import sklearn\n",
    "def songVector(row):\n",
    "    vector_sum = 0\n",
    "    words = row.lower().split()\n",
    "    for word in words:\n",
    "        vector_sum = vector_sum + songs2vec[word]\n",
    "    vector_sum = vector_sum.reshape(1, -1)\n",
    "    normalised_vector_sum = sklearn.preprocessing.normalize(vector_sum)\n",
    "    return normalised_vector_sum\n",
    "\n",
    "songs['lyrics_vector'] = songs['lyrics'].apply(songVector)"
   ]
  },
  {
   "cell_type": "code",
   "execution_count": 31,
   "metadata": {
    "collapsed": false
   },
   "outputs": [
    {
     "data": {
      "text/plain": [
       "(47, 4)"
      ]
     },
     "execution_count": 31,
     "metadata": {},
     "output_type": "execute_result"
    }
   ],
   "source": [
    "songs.shape\n"
   ]
  },
  {
   "cell_type": "code",
   "execution_count": 36,
   "metadata": {
    "collapsed": false
   },
   "outputs": [
    {
     "name": "stdout",
     "output_type": "stream",
     "text": [
      "[t-SNE] Computing pairwise distances...\n",
      "[t-SNE] Computing 46 nearest neighbors...\n",
      "[t-SNE] Computed conditional probabilities for sample 47 / 47\n",
      "[t-SNE] Mean sigma: 0.141871\n",
      "[t-SNE] Iteration 25: error = 1.5810152, gradient norm = 0.0028508\n",
      "[t-SNE] Iteration 50: error = 1.4712532, gradient norm = 0.0021362\n",
      "[t-SNE] Iteration 75: error = 1.3032110, gradient norm = 0.0011651\n",
      "[t-SNE] Iteration 100: error = 1.2693498, gradient norm = 0.0010068\n",
      "[t-SNE] KL divergence after 100 iterations with early exaggeration: 1.269350\n",
      "[t-SNE] Iteration 125: error = 1.2138315, gradient norm = 0.0008863\n",
      "[t-SNE] Iteration 125: gradient norm 0.000886. Finished.\n",
      "[t-SNE] Error after 125 iterations: 1.269350\n"
     ]
    },
    {
     "data": {
      "text/html": [
       "<div>\n",
       "<table border=\"1\" class=\"dataframe\">\n",
       "  <thead>\n",
       "    <tr style=\"text-align: right;\">\n",
       "      <th></th>\n",
       "      <th>lyrics</th>\n",
       "      <th>song</th>\n",
       "      <th>url</th>\n",
       "      <th>lyrics_vector</th>\n",
       "      <th>X</th>\n",
       "      <th>Y</th>\n",
       "    </tr>\n",
       "  </thead>\n",
       "  <tbody>\n",
       "    <tr>\n",
       "      <th>0</th>\n",
       "      <td>The club isn't the best place to find a lover\\...</td>\n",
       "      <td>Shape Of You</td>\n",
       "      <td>https://www.directlyrics.com/ed-sheeran-shape-...</td>\n",
       "      <td>[[0.156699, -0.174665, -0.0537184, 0.00572745,...</td>\n",
       "      <td>538.300882</td>\n",
       "      <td>13.586040</td>\n",
       "    </tr>\n",
       "    <tr>\n",
       "      <th>1</th>\n",
       "      <td>When I was six years old I broke my leg\\nI was...</td>\n",
       "      <td>Castle On The Hill</td>\n",
       "      <td>https://www.directlyrics.com/ed-sheeran-castle...</td>\n",
       "      <td>[[0.155166, -0.205254, -0.0616643, -0.00568822...</td>\n",
       "      <td>142.166006</td>\n",
       "      <td>23.138360</td>\n",
       "    </tr>\n",
       "    <tr>\n",
       "      <th>2</th>\n",
       "      <td>You are the one, girl\\nYou know that it's true...</td>\n",
       "      <td>How Would You Feel</td>\n",
       "      <td>https://www.directlyrics.com/ed-sheeran-how-wo...</td>\n",
       "      <td>[[0.123813, -0.143095, -0.0610325, -0.0159541,...</td>\n",
       "      <td>-126.436687</td>\n",
       "      <td>-44.398532</td>\n",
       "    </tr>\n",
       "    <tr>\n",
       "      <th>3</th>\n",
       "      <td>When your legs don't work like they used to be...</td>\n",
       "      <td>Thinking Out Loud</td>\n",
       "      <td>https://www.directlyrics.com/ed-sheeran-thinki...</td>\n",
       "      <td>[[0.140063, -0.174749, -0.0692255, -0.0133274,...</td>\n",
       "      <td>108.299064</td>\n",
       "      <td>-12.314620</td>\n",
       "    </tr>\n",
       "    <tr>\n",
       "      <th>4</th>\n",
       "      <td>It's just another night, and I'm staring at th...</td>\n",
       "      <td>All Of The Stars</td>\n",
       "      <td>https://www.directlyrics.com/ed-sheeran-all-of...</td>\n",
       "      <td>[[0.182078, -0.191971, -0.0634723, -0.028479, ...</td>\n",
       "      <td>-123.368071</td>\n",
       "      <td>50.674563</td>\n",
       "    </tr>\n",
       "  </tbody>\n",
       "</table>\n",
       "</div>"
      ],
      "text/plain": [
       "                                              lyrics                song  \\\n",
       "0  The club isn't the best place to find a lover\\...        Shape Of You   \n",
       "1  When I was six years old I broke my leg\\nI was...  Castle On The Hill   \n",
       "2  You are the one, girl\\nYou know that it's true...  How Would You Feel   \n",
       "3  When your legs don't work like they used to be...   Thinking Out Loud   \n",
       "4  It's just another night, and I'm staring at th...    All Of The Stars   \n",
       "\n",
       "                                                 url  \\\n",
       "0  https://www.directlyrics.com/ed-sheeran-shape-...   \n",
       "1  https://www.directlyrics.com/ed-sheeran-castle...   \n",
       "2  https://www.directlyrics.com/ed-sheeran-how-wo...   \n",
       "3  https://www.directlyrics.com/ed-sheeran-thinki...   \n",
       "4  https://www.directlyrics.com/ed-sheeran-all-of...   \n",
       "\n",
       "                                       lyrics_vector           X          Y  \n",
       "0  [[0.156699, -0.174665, -0.0537184, 0.00572745,...  538.300882  13.586040  \n",
       "1  [[0.155166, -0.205254, -0.0616643, -0.00568822...  142.166006  23.138360  \n",
       "2  [[0.123813, -0.143095, -0.0610325, -0.0159541,... -126.436687 -44.398532  \n",
       "3  [[0.140063, -0.174749, -0.0692255, -0.0133274,...  108.299064 -12.314620  \n",
       "4  [[0.182078, -0.191971, -0.0634723, -0.028479, ... -123.368071  50.674563  "
      ]
     },
     "execution_count": 36,
     "metadata": {},
     "output_type": "execute_result"
    }
   ],
   "source": [
    "songs_vector = []\n",
    "\n",
    "\n",
    "for song_vector in songs['lyrics_vector']:\n",
    "    songs_vector.append(song_vector)\n",
    "\n",
    "X = np.array(songs_vector).reshape((47, 50))\n",
    "\n",
    "tsne = sklearn.manifold.TSNE(n_components=2, n_iter=500, random_state=0, verbose=2)\n",
    "\n",
    "all_word_vectors_matrix_2d = tsne.fit_transform(X)\n",
    "\n",
    "df=pd.DataFrame(all_word_vectors_matrix_2d,columns=['X','Y'])\n",
    "\n",
    "df.head(10)\n",
    "\n",
    "df.reset_index(drop=True, inplace=True)\n",
    "songs.reset_index(drop=True, inplace=True)\n",
    "\n",
    "two_dimensional_songs = pd.concat([songs, df], axis=1)\n",
    "\n",
    "two_dimensional_songs.head()"
   ]
  },
  {
   "cell_type": "code",
   "execution_count": null,
   "metadata": {
    "collapsed": true
   },
   "outputs": [],
   "source": [
    "two_dimensional_songs.to_csv(\"songs.csv\")"
   ]
  }
 ],
 "metadata": {
  "kernelspec": {
   "display_name": "Python 3",
   "language": "python",
   "name": "python3"
  },
  "language_info": {
   "codemirror_mode": {
    "name": "ipython",
    "version": 3
   },
   "file_extension": ".py",
   "mimetype": "text/x-python",
   "name": "python",
   "nbconvert_exporter": "python",
   "pygments_lexer": "ipython3",
   "version": "3.6.0"
  }
 },
 "nbformat": 4,
 "nbformat_minor": 2
}
